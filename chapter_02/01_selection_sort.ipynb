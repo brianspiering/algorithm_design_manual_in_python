{
 "cells": [
  {
   "cell_type": "markdown",
   "id": "8d26487c",
   "metadata": {
    "toc": true
   },
   "source": [
    "<h1>Table of Contents<span class=\"tocSkip\"></span></h1>\n",
    "<div class=\"toc\"><ul class=\"toc-item\"><li><span><a href=\"#Selection-Sort\" data-toc-modified-id=\"Selection-Sort-1\">Selection Sort</a></span></li></ul></div>"
   ]
  },
  {
   "cell_type": "markdown",
   "id": "d30ab5fc",
   "metadata": {},
   "source": [
    "Selection Sort\n",
    "======\n",
    "\n",
    "On page 41"
   ]
  },
  {
   "cell_type": "code",
   "execution_count": 5,
   "id": "f8877527",
   "metadata": {},
   "outputs": [],
   "source": [
    "def selection_sort(data_unsorted: list) -> list:\n",
    "    data_sorted = []\n",
    "    while data_unsorted:\n",
    "        m = min(data_unsorted)\n",
    "        data_unsorted.remove(m)\n",
    "        data_sorted.append(m)\n",
    "    else:\n",
    "        return data_sorted\n",
    "        \n",
    "assert selection_sort([3, 2, 1])       == [1, 2, 3]\n",
    "assert selection_sort(['c', 'a', 'b']) == ['a', 'b', 'c']"
   ]
  },
  {
   "cell_type": "markdown",
   "id": "dc6b2bae",
   "metadata": {},
   "source": [
    "<br>\n",
    "<br> \n",
    "<br>\n",
    "\n",
    "----"
   ]
  }
 ],
 "metadata": {
  "kernelspec": {
   "display_name": "Python 3 (ipykernel)",
   "language": "python",
   "name": "python3"
  },
  "language_info": {
   "codemirror_mode": {
    "name": "ipython",
    "version": 3
   },
   "file_extension": ".py",
   "mimetype": "text/x-python",
   "name": "python",
   "nbconvert_exporter": "python",
   "pygments_lexer": "ipython3",
   "version": "3.8.12"
  },
  "toc": {
   "base_numbering": 1,
   "nav_menu": {},
   "number_sections": false,
   "sideBar": false,
   "skip_h1_title": false,
   "title_cell": "Table of Contents",
   "title_sidebar": "Contents",
   "toc_cell": true,
   "toc_position": {},
   "toc_section_display": true,
   "toc_window_display": false
  }
 },
 "nbformat": 4,
 "nbformat_minor": 5
}
