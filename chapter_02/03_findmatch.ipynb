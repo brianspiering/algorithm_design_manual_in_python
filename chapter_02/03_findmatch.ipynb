{
 "cells": [
  {
   "cell_type": "markdown",
   "id": "6e0144e3",
   "metadata": {
    "toc": true
   },
   "source": [
    "<h1>Table of Contents<span class=\"tocSkip\"></span></h1>\n",
    "<div class=\"toc\"><ul class=\"toc-item\"></ul></div>"
   ]
  },
  {
   "cell_type": "markdown",
   "id": "a0da71ce",
   "metadata": {},
   "source": [
    "Find Match\n",
    "-----\n",
    "\n",
    "Section 2.5.3\n",
    "\n",
    "Page 44"
   ]
  },
  {
   "cell_type": "code",
   "execution_count": 10,
   "id": "85c0c096",
   "metadata": {},
   "outputs": [],
   "source": [
    "from typing import Union\n",
    "\n",
    "def find_match(string: str, substring: str) -> Union[int, bool]:\n",
    "    for i in range(len(string)):\n",
    "        if string[i:i+len(substring)] == substring:\n",
    "            return i\n",
    "    else:\n",
    "        return False # Do not return -1 because that could be misinterperted as the last index \n",
    "\n",
    "assert find_match(string=\"abaababbaba\", substring=\"abba\") == 5       \n",
    "assert not find_match(string=\"abaababbaba\", substring=\"z\") "
   ]
  },
  {
   "cell_type": "markdown",
   "id": "7377627d",
   "metadata": {},
   "source": [
    "<br>\n",
    "<br> \n",
    "<br>\n",
    "\n",
    "----"
   ]
  }
 ],
 "metadata": {
  "kernelspec": {
   "display_name": "Python 3 (ipykernel)",
   "language": "python",
   "name": "python3"
  },
  "language_info": {
   "codemirror_mode": {
    "name": "ipython",
    "version": 3
   },
   "file_extension": ".py",
   "mimetype": "text/x-python",
   "name": "python",
   "nbconvert_exporter": "python",
   "pygments_lexer": "ipython3",
   "version": "3.8.12"
  },
  "toc": {
   "base_numbering": 1,
   "nav_menu": {},
   "number_sections": false,
   "sideBar": false,
   "skip_h1_title": false,
   "title_cell": "Table of Contents",
   "title_sidebar": "Contents",
   "toc_cell": true,
   "toc_position": {},
   "toc_section_display": true,
   "toc_window_display": false
  }
 },
 "nbformat": 4,
 "nbformat_minor": 5
}
