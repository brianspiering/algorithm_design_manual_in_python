{
 "cells": [
  {
   "cell_type": "markdown",
   "id": "8d26487c",
   "metadata": {
    "toc": true
   },
   "source": [
    "<h1>Table of Contents<span class=\"tocSkip\"></span></h1>\n",
    "<div class=\"toc\"><ul class=\"toc-item\"><li><span><a href=\"#Insertion-Sort\" data-toc-modified-id=\"Insertion-Sort-1\">Insertion Sort</a></span></li></ul></div>"
   ]
  },
  {
   "cell_type": "markdown",
   "id": "d30ab5fc",
   "metadata": {},
   "source": [
    "Insertion Sort\n",
    "======\n",
    "\n",
    "On page 4"
   ]
  },
  {
   "cell_type": "code",
   "execution_count": 5,
   "id": "f8877527",
   "metadata": {},
   "outputs": [],
   "source": [
    "def insertion_sort(data: list) -> list:\n",
    "    # Loop through each item and its index \n",
    "    for index, item in enumerate(data):\n",
    "        # Search for place to put current element         \n",
    "        while (index > 0) and (data[index - 1] > item):  \n",
    "            # Shift element right one slot\n",
    "            data[index] = data[index - 1]         \n",
    "            index -= 1                                      \n",
    "        # Place item its final location \n",
    "        data[index] = item  \n",
    "    return data\n",
    "        \n",
    "assert insertion_sort([3, 2, 1])       == [1, 2, 3]\n",
    "assert insertion_sort(['c', 'a', 'b']) == ['a', 'b', 'c']"
   ]
  },
  {
   "cell_type": "markdown",
   "id": "dc6b2bae",
   "metadata": {},
   "source": [
    "<br>\n",
    "<br> \n",
    "<br>\n",
    "\n",
    "----"
   ]
  }
 ],
 "metadata": {
  "kernelspec": {
   "display_name": "Python 3 (ipykernel)",
   "language": "python",
   "name": "python3"
  },
  "language_info": {
   "codemirror_mode": {
    "name": "ipython",
    "version": 3
   },
   "file_extension": ".py",
   "mimetype": "text/x-python",
   "name": "python",
   "nbconvert_exporter": "python",
   "pygments_lexer": "ipython3",
   "version": "3.8.12"
  },
  "toc": {
   "base_numbering": 1,
   "nav_menu": {},
   "number_sections": false,
   "sideBar": false,
   "skip_h1_title": false,
   "title_cell": "Table of Contents",
   "title_sidebar": "Contents",
   "toc_cell": true,
   "toc_position": {},
   "toc_section_display": true,
   "toc_window_display": false
  }
 },
 "nbformat": 4,
 "nbformat_minor": 5
}
